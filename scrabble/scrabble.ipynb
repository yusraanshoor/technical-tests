{
 "cells": [
  {
   "cell_type": "code",
   "execution_count": null,
   "metadata": {},
   "outputs": [],
   "source": []
  },
  {
   "cell_type": "code",
   "execution_count": 4,
   "metadata": {},
   "outputs": [
    {
     "data": {
      "text/plain": [
       "10"
      ]
     },
     "execution_count": 4,
     "metadata": {},
     "output_type": "execute_result"
    }
   ],
   "source": [
    "points_for_letters = {'A': 1,\n",
    "'B': 3,\n",
    "'C': 3, \n",
    "'D': 2, \n",
    "'E': 1, \n",
    "'F': 4,\n",
    "'G': 2,\n",
    "'H': 4,\n",
    "'I': 1,\n",
    "'J': 8,\n",
    "'K': 5,\n",
    "'L': 1,\n",
    "'M': 3,\n",
    "'N': 1,\n",
    "'O': 1,\n",
    "'P': 3,\n",
    "'Q': 10,\n",
    "'R': 1,\n",
    "'S': 1,\n",
    "'T': 1,\n",
    "'U': 1,\n",
    "'V': 4,\n",
    "'W': 4,\n",
    "'X': 8,\n",
    "'Y': 4,\n",
    "'Z': 10 }\n",
    "\n"
   ]
  },
  {
   "cell_type": "code",
   "execution_count": 13,
   "metadata": {},
   "outputs": [
    {
     "data": {
      "text/plain": [
       "10"
      ]
     },
     "execution_count": 13,
     "metadata": {},
     "output_type": "execute_result"
    }
   ],
   "source": [
    "def points_for_word (word):\n",
    "    letters = list(word)\n",
    "    points = 0\n",
    "    for letter in letters:\n",
    "        uppercase_letter = letter.upper()\n",
    "        points += points_for_letters[uppercase_letter]\n",
    "    return points\n",
    "\n",
    "points_for_word ('GUARDIAN')  "
   ]
  }
 ],
 "metadata": {
  "kernelspec": {
   "display_name": "Python 3.9.13 64-bit",
   "language": "python",
   "name": "python3"
  },
  "language_info": {
   "codemirror_mode": {
    "name": "ipython",
    "version": 3
   },
   "file_extension": ".py",
   "mimetype": "text/x-python",
   "name": "python",
   "nbconvert_exporter": "python",
   "pygments_lexer": "ipython3",
   "version": "3.9.13"
  },
  "orig_nbformat": 4,
  "vscode": {
   "interpreter": {
    "hash": "b0fa6594d8f4cbf19f97940f81e996739fb7646882a419484c72d19e05852a7e"
   }
  }
 },
 "nbformat": 4,
 "nbformat_minor": 2
}
