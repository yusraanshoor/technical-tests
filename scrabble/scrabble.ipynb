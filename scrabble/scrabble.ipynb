{
 "cells": [
  {
   "cell_type": "code",
   "execution_count": 15,
   "metadata": {},
   "outputs": [],
   "source": [
    "import random\n",
    "import math"
   ]
  },
  {
   "cell_type": "code",
   "execution_count": 4,
   "metadata": {},
   "outputs": [
    {
     "data": {
      "text/plain": [
       "10"
      ]
     },
     "execution_count": 4,
     "metadata": {},
     "output_type": "execute_result"
    }
   ],
   "source": [
    "points_for_letters = {'A': 1,\n",
    "'B': 3,\n",
    "'C': 3, \n",
    "'D': 2, \n",
    "'E': 1, \n",
    "'F': 4,\n",
    "'G': 2,\n",
    "'H': 4,\n",
    "'I': 1,\n",
    "'J': 8,\n",
    "'K': 5,\n",
    "'L': 1,\n",
    "'M': 3,\n",
    "'N': 1,\n",
    "'O': 1,\n",
    "'P': 3,\n",
    "'Q': 10,\n",
    "'R': 1,\n",
    "'S': 1,\n",
    "'T': 1,\n",
    "'U': 1,\n",
    "'V': 4,\n",
    "'W': 4,\n",
    "'X': 8,\n",
    "'Y': 4,\n",
    "'Z': 10 }\n",
    "\n"
   ]
  },
  {
   "cell_type": "code",
   "execution_count": 32,
   "metadata": {},
   "outputs": [],
   "source": [
    "distribution_for_letters = {'A': 9,\n",
    "'B': 2,\n",
    "'C': 2, \n",
    "'D': 4, \n",
    "'E': 12, \n",
    "'F': 2,\n",
    "'G': 3,\n",
    "'H': 2,\n",
    "'I': 9,\n",
    "'J': 1,\n",
    "'K': 1,\n",
    "'L': 4,\n",
    "'M': 2,\n",
    "'N': 6,\n",
    "'O': 8,\n",
    "'P': 2,\n",
    "'Q': 1,\n",
    "'R': 6,\n",
    "'S': 4,\n",
    "'T': 6,\n",
    "'U': 4,\n",
    "'V': 2,\n",
    "'W': 2,\n",
    "'X': 1,\n",
    "'Y': 2,\n",
    "'Z': 1 }"
   ]
  },
  {
   "cell_type": "code",
   "execution_count": 13,
   "metadata": {},
   "outputs": [
    {
     "data": {
      "text/plain": [
       "10"
      ]
     },
     "execution_count": 13,
     "metadata": {},
     "output_type": "execute_result"
    }
   ],
   "source": [
    "def points_for_word (word):\n",
    "    letters = list(word)\n",
    "    points = 0\n",
    "    for letter in letters:\n",
    "        uppercase_letter = letter.upper()\n",
    "        points += points_for_letters[uppercase_letter]\n",
    "    return points\n",
    "\n",
    "points_for_word ('GUARDIAN')  "
   ]
  },
  {
   "cell_type": "code",
   "execution_count": 36,
   "metadata": {},
   "outputs": [],
   "source": [
    "def generating_bag ():\n",
    "    alphabet = ['A','B','C','D','E','F','G','H','I','J','K','L','M','N','O','P','Q','R','S','T','U','V','W','X','Y','Z']\n",
    "    bag = []\n",
    "    for letter in alphabet:\n",
    "        number_of_tiles = distribution_for_letters[letter]\n",
    "        for i in range( number_of_tiles ):\n",
    "            bag.append(letter)\n",
    "    return bag\n",
    "\n",
    "bag = generating_bag ()\n"
   ]
  },
  {
   "cell_type": "code",
   "execution_count": 30,
   "metadata": {},
   "outputs": [
    {
     "data": {
      "text/plain": [
       "['p', 'e', 'n', 's', 'r', 'k', 'v']"
      ]
     },
     "execution_count": 30,
     "metadata": {},
     "output_type": "execute_result"
    }
   ],
   "source": [
    "alphabet = ['a','b','c','d','e','f','g','h','i','j','k','l','m','n','o','p','q','r','s','t','u','v','w','x','y','z']\n",
    "def assign_to_player_rack (alphabet):\n",
    "    player_rack = []\n",
    "    for i in range(7):\n",
    "        max_index = len(alphabet) - 1\n",
    "        random_index = get_random_letter(max_index)\n",
    "        random_letter = alphabet[random_index]\n",
    "        player_rack.append(random_letter)\n",
    "    return player_rack\n",
    "\n",
    "assign_to_player_rack (alphabet) "
   ]
  },
  {
   "cell_type": "code",
   "execution_count": null,
   "metadata": {},
   "outputs": [],
   "source": [
    "def get_random_letter (max):\n",
    "   return math.floor(random.random() * max)"
   ]
  }
 ],
 "metadata": {
  "kernelspec": {
   "display_name": "Python 3.9.13 64-bit",
   "language": "python",
   "name": "python3"
  },
  "language_info": {
   "codemirror_mode": {
    "name": "ipython",
    "version": 3
   },
   "file_extension": ".py",
   "mimetype": "text/x-python",
   "name": "python",
   "nbconvert_exporter": "python",
   "pygments_lexer": "ipython3",
   "version": "3.9.13"
  },
  "orig_nbformat": 4,
  "vscode": {
   "interpreter": {
    "hash": "b0fa6594d8f4cbf19f97940f81e996739fb7646882a419484c72d19e05852a7e"
   }
  }
 },
 "nbformat": 4,
 "nbformat_minor": 2
}
